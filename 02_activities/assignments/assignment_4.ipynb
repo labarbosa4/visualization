{
 "cells": [
  {
   "cell_type": "markdown",
   "metadata": {},
   "source": [
    "# Data Visualization\n",
    "\n",
    "## Assignment 4: Final Project\n",
    "\n",
    "### Requirements:\n",
    "- We will finish this class by giving you the chance to use what you have learned in a practical context, by creating data visualizations from raw data. \n",
    "- Choose a dataset of interest from the [City of Toronto’s Open Data Portal](https://www.toronto.ca/city-government/data-research-maps/open-data/) or [Ontario’s Open Data Catalogue](https://data.ontario.ca/). \n",
    "- Using Python and one other data visualization software (Excel or free alternative, Tableau Public, any other tool you prefer), create two distinct visualizations from your dataset of choice."
   ]
  },
  {
   "cell_type": "markdown",
   "metadata": {},
   "source": [
    "### Data Set\n",
    "The selected data represents parking tickets issued in Ontario in 2022. The data is divided into eight different CSV files, and this exercise includes joining the data contained in them for further data visualization and analysis.\n",
    "\n",
    "Link: https://open.toronto.ca/dataset/parking-tickets/"
   ]
  },
  {
   "cell_type": "markdown",
   "metadata": {},
   "source": [
    "### Visualization using Python"
   ]
  },
  {
   "cell_type": "code",
   "execution_count": null,
   "metadata": {},
   "outputs": [
    {
     "name": "stdout",
     "output_type": "stream",
     "text": [
      "CSV files combined successfully into 'combined_output.csv'\n"
     ]
    }
   ],
   "source": [
    "import pandas as pd\n",
    "import os\n",
    "\n",
    "# List of CSV files to combine\n",
    "csv_files = [\n",
    "    \"Parking_Tags_Data_2022.000.csv\", \"Parking_Tags_Data_2022.001.csv\", \"Parking_Tags_Data_2022.002.csv\", \"Parking_Tags_Data_2022.003.csv\", \"Parking_Tags_Data_2022.004.csv\", \"Parking_Tags_Data_2022.005.csv\", \"Parking_Tags_Data_2022.006.csv\", \"Parking_Tags_Data_2022.007.csv\",]\n",
    "\n",
    "# Initialize an empty list to store DataFrames\n",
    "dataframes = []\n",
    "\n",
    "# Loop through the list of CSV files and read them into individual DataFrames\n",
    "for file in csv_files:\n",
    "    if os.path.exists(file):\n",
    "        df = pd.read_csv(file)\n",
    "        dataframes.append(df)\n",
    "    else:\n",
    "        print(f\"Warning: {file} does not exist.\")\n",
    "\n",
    "# Combine all DataFrames into a single DataFrame\n",
    "combined_df = pd.concat(dataframes, ignore_index=True)\n",
    "\n",
    "# Save the combined DataFrame to a new CSV file\n",
    "combined_df.to_csv(\"combined_output.csv\", index=False)\n",
    "\n",
    "print(\"CSV files combined successfully into 'combined_output.csv'\")\n"
   ]
  },
  {
   "cell_type": "markdown",
   "metadata": {},
   "source": [
    "Below is the data visualization exercise for the selected dataset"
   ]
  },
  {
   "cell_type": "code",
   "execution_count": null,
   "metadata": {},
   "outputs": [
    {
     "name": "stdout",
     "output_type": "stream",
     "text": [
      "  tag_number_masked  date_of_infraction  infraction_code  \\\n",
      "0          ***73863            20220101               29   \n",
      "1          ***46942            20220101               15   \n",
      "2          ***73864            20220101               29   \n",
      "3          ***63914            20220101                9   \n",
      "4          ***73865            20220101               29   \n",
      "\n",
      "           infraction_description  set_fine_amount  time_of_infraction  \\\n",
      "0  PARK PROHIBITED TIME NO PERMIT               30                 3.0   \n",
      "1  PARK-WITHIN 3M OF FIRE HYDRANT              100                 5.0   \n",
      "2  PARK PROHIBITED TIME NO PERMIT               30                 5.0   \n",
      "3  STOP-SIGNED HWY-PROHIBIT TM/DY              100                 6.0   \n",
      "4  PARK PROHIBITED TIME NO PERMIT               30                 6.0   \n",
      "\n",
      "  location1           location2 location3 location4 province  \n",
      "0       OPP   233 COLERIDGE AVE       NaN       NaN       ON  \n",
      "1        NR  25 TOWN CENTRE CRT       NaN       NaN       ON  \n",
      "2        NR   252 COLERIDGE AVE       NaN       NaN       MA  \n",
      "3        NR   70 DAN LECKIE WAY       NaN       NaN       ON  \n",
      "4        NR   262 COLERIDGE AVE       NaN       NaN       ON  \n"
     ]
    },
    {
     "name": "stderr",
     "output_type": "stream",
     "text": [
      "/var/folders/qv/krqt3swd09g8_y9cbl_y4syc0000gp/T/ipykernel_47398/2082997019.py:12: SettingWithCopyWarning: \n",
      "A value is trying to be set on a copy of a slice from a DataFrame.\n",
      "Try using .loc[row_indexer,col_indexer] = value instead\n",
      "\n",
      "See the caveats in the documentation: https://pandas.pydata.org/pandas-docs/stable/user_guide/indexing.html#returning-a-view-versus-a-copy\n",
      "  ontario_df['date_of_infraction'] = pd.to_datetime(ontario_df['date_of_infraction'], format='%Y%m%d')\n",
      "/var/folders/qv/krqt3swd09g8_y9cbl_y4syc0000gp/T/ipykernel_47398/2082997019.py:13: SettingWithCopyWarning: \n",
      "A value is trying to be set on a copy of a slice from a DataFrame.\n",
      "Try using .loc[row_indexer,col_indexer] = value instead\n",
      "\n",
      "See the caveats in the documentation: https://pandas.pydata.org/pandas-docs/stable/user_guide/indexing.html#returning-a-view-versus-a-copy\n",
      "  ontario_df['month'] = ontario_df['date_of_infraction'].dt.month\n"
     ]
    },
    {
     "data": {
      "application/vnd.plotly.v1+json": {
       "config": {
        "plotlyServerURL": "https://plot.ly"
       },
       "data": [
        {
         "marker": {
          "color": "#19D3F3"
         },
         "type": "bar",
         "x": [
          "Jan",
          "Feb",
          "Mar",
          "Apr",
          "May",
          "Jun",
          "Jul",
          "Aug",
          "Sep",
          "Oct",
          "Nov",
          "Dec"
         ],
         "y": [
          110337,
          94162,
          169075,
          156682,
          162726,
          163457,
          157991,
          155656,
          152819,
          158663,
          148054,
          123871
         ]
        }
       ],
       "layout": {
        "template": {
         "data": {
          "bar": [
           {
            "error_x": {
             "color": "#2a3f5f"
            },
            "error_y": {
             "color": "#2a3f5f"
            },
            "marker": {
             "line": {
              "color": "#E5ECF6",
              "width": 0.5
             },
             "pattern": {
              "fillmode": "overlay",
              "size": 10,
              "solidity": 0.2
             }
            },
            "type": "bar"
           }
          ],
          "barpolar": [
           {
            "marker": {
             "line": {
              "color": "#E5ECF6",
              "width": 0.5
             },
             "pattern": {
              "fillmode": "overlay",
              "size": 10,
              "solidity": 0.2
             }
            },
            "type": "barpolar"
           }
          ],
          "carpet": [
           {
            "aaxis": {
             "endlinecolor": "#2a3f5f",
             "gridcolor": "white",
             "linecolor": "white",
             "minorgridcolor": "white",
             "startlinecolor": "#2a3f5f"
            },
            "baxis": {
             "endlinecolor": "#2a3f5f",
             "gridcolor": "white",
             "linecolor": "white",
             "minorgridcolor": "white",
             "startlinecolor": "#2a3f5f"
            },
            "type": "carpet"
           }
          ],
          "choropleth": [
           {
            "colorbar": {
             "outlinewidth": 0,
             "ticks": ""
            },
            "type": "choropleth"
           }
          ],
          "contour": [
           {
            "colorbar": {
             "outlinewidth": 0,
             "ticks": ""
            },
            "colorscale": [
             [
              0,
              "#0d0887"
             ],
             [
              0.1111111111111111,
              "#46039f"
             ],
             [
              0.2222222222222222,
              "#7201a8"
             ],
             [
              0.3333333333333333,
              "#9c179e"
             ],
             [
              0.4444444444444444,
              "#bd3786"
             ],
             [
              0.5555555555555556,
              "#d8576b"
             ],
             [
              0.6666666666666666,
              "#ed7953"
             ],
             [
              0.7777777777777778,
              "#fb9f3a"
             ],
             [
              0.8888888888888888,
              "#fdca26"
             ],
             [
              1,
              "#f0f921"
             ]
            ],
            "type": "contour"
           }
          ],
          "contourcarpet": [
           {
            "colorbar": {
             "outlinewidth": 0,
             "ticks": ""
            },
            "type": "contourcarpet"
           }
          ],
          "heatmap": [
           {
            "colorbar": {
             "outlinewidth": 0,
             "ticks": ""
            },
            "colorscale": [
             [
              0,
              "#0d0887"
             ],
             [
              0.1111111111111111,
              "#46039f"
             ],
             [
              0.2222222222222222,
              "#7201a8"
             ],
             [
              0.3333333333333333,
              "#9c179e"
             ],
             [
              0.4444444444444444,
              "#bd3786"
             ],
             [
              0.5555555555555556,
              "#d8576b"
             ],
             [
              0.6666666666666666,
              "#ed7953"
             ],
             [
              0.7777777777777778,
              "#fb9f3a"
             ],
             [
              0.8888888888888888,
              "#fdca26"
             ],
             [
              1,
              "#f0f921"
             ]
            ],
            "type": "heatmap"
           }
          ],
          "heatmapgl": [
           {
            "colorbar": {
             "outlinewidth": 0,
             "ticks": ""
            },
            "colorscale": [
             [
              0,
              "#0d0887"
             ],
             [
              0.1111111111111111,
              "#46039f"
             ],
             [
              0.2222222222222222,
              "#7201a8"
             ],
             [
              0.3333333333333333,
              "#9c179e"
             ],
             [
              0.4444444444444444,
              "#bd3786"
             ],
             [
              0.5555555555555556,
              "#d8576b"
             ],
             [
              0.6666666666666666,
              "#ed7953"
             ],
             [
              0.7777777777777778,
              "#fb9f3a"
             ],
             [
              0.8888888888888888,
              "#fdca26"
             ],
             [
              1,
              "#f0f921"
             ]
            ],
            "type": "heatmapgl"
           }
          ],
          "histogram": [
           {
            "marker": {
             "pattern": {
              "fillmode": "overlay",
              "size": 10,
              "solidity": 0.2
             }
            },
            "type": "histogram"
           }
          ],
          "histogram2d": [
           {
            "colorbar": {
             "outlinewidth": 0,
             "ticks": ""
            },
            "colorscale": [
             [
              0,
              "#0d0887"
             ],
             [
              0.1111111111111111,
              "#46039f"
             ],
             [
              0.2222222222222222,
              "#7201a8"
             ],
             [
              0.3333333333333333,
              "#9c179e"
             ],
             [
              0.4444444444444444,
              "#bd3786"
             ],
             [
              0.5555555555555556,
              "#d8576b"
             ],
             [
              0.6666666666666666,
              "#ed7953"
             ],
             [
              0.7777777777777778,
              "#fb9f3a"
             ],
             [
              0.8888888888888888,
              "#fdca26"
             ],
             [
              1,
              "#f0f921"
             ]
            ],
            "type": "histogram2d"
           }
          ],
          "histogram2dcontour": [
           {
            "colorbar": {
             "outlinewidth": 0,
             "ticks": ""
            },
            "colorscale": [
             [
              0,
              "#0d0887"
             ],
             [
              0.1111111111111111,
              "#46039f"
             ],
             [
              0.2222222222222222,
              "#7201a8"
             ],
             [
              0.3333333333333333,
              "#9c179e"
             ],
             [
              0.4444444444444444,
              "#bd3786"
             ],
             [
              0.5555555555555556,
              "#d8576b"
             ],
             [
              0.6666666666666666,
              "#ed7953"
             ],
             [
              0.7777777777777778,
              "#fb9f3a"
             ],
             [
              0.8888888888888888,
              "#fdca26"
             ],
             [
              1,
              "#f0f921"
             ]
            ],
            "type": "histogram2dcontour"
           }
          ],
          "mesh3d": [
           {
            "colorbar": {
             "outlinewidth": 0,
             "ticks": ""
            },
            "type": "mesh3d"
           }
          ],
          "parcoords": [
           {
            "line": {
             "colorbar": {
              "outlinewidth": 0,
              "ticks": ""
             }
            },
            "type": "parcoords"
           }
          ],
          "pie": [
           {
            "automargin": true,
            "type": "pie"
           }
          ],
          "scatter": [
           {
            "fillpattern": {
             "fillmode": "overlay",
             "size": 10,
             "solidity": 0.2
            },
            "type": "scatter"
           }
          ],
          "scatter3d": [
           {
            "line": {
             "colorbar": {
              "outlinewidth": 0,
              "ticks": ""
             }
            },
            "marker": {
             "colorbar": {
              "outlinewidth": 0,
              "ticks": ""
             }
            },
            "type": "scatter3d"
           }
          ],
          "scattercarpet": [
           {
            "marker": {
             "colorbar": {
              "outlinewidth": 0,
              "ticks": ""
             }
            },
            "type": "scattercarpet"
           }
          ],
          "scattergeo": [
           {
            "marker": {
             "colorbar": {
              "outlinewidth": 0,
              "ticks": ""
             }
            },
            "type": "scattergeo"
           }
          ],
          "scattergl": [
           {
            "marker": {
             "colorbar": {
              "outlinewidth": 0,
              "ticks": ""
             }
            },
            "type": "scattergl"
           }
          ],
          "scattermapbox": [
           {
            "marker": {
             "colorbar": {
              "outlinewidth": 0,
              "ticks": ""
             }
            },
            "type": "scattermapbox"
           }
          ],
          "scatterpolar": [
           {
            "marker": {
             "colorbar": {
              "outlinewidth": 0,
              "ticks": ""
             }
            },
            "type": "scatterpolar"
           }
          ],
          "scatterpolargl": [
           {
            "marker": {
             "colorbar": {
              "outlinewidth": 0,
              "ticks": ""
             }
            },
            "type": "scatterpolargl"
           }
          ],
          "scatterternary": [
           {
            "marker": {
             "colorbar": {
              "outlinewidth": 0,
              "ticks": ""
             }
            },
            "type": "scatterternary"
           }
          ],
          "surface": [
           {
            "colorbar": {
             "outlinewidth": 0,
             "ticks": ""
            },
            "colorscale": [
             [
              0,
              "#0d0887"
             ],
             [
              0.1111111111111111,
              "#46039f"
             ],
             [
              0.2222222222222222,
              "#7201a8"
             ],
             [
              0.3333333333333333,
              "#9c179e"
             ],
             [
              0.4444444444444444,
              "#bd3786"
             ],
             [
              0.5555555555555556,
              "#d8576b"
             ],
             [
              0.6666666666666666,
              "#ed7953"
             ],
             [
              0.7777777777777778,
              "#fb9f3a"
             ],
             [
              0.8888888888888888,
              "#fdca26"
             ],
             [
              1,
              "#f0f921"
             ]
            ],
            "type": "surface"
           }
          ],
          "table": [
           {
            "cells": {
             "fill": {
              "color": "#EBF0F8"
             },
             "line": {
              "color": "white"
             }
            },
            "header": {
             "fill": {
              "color": "#C8D4E3"
             },
             "line": {
              "color": "white"
             }
            },
            "type": "table"
           }
          ]
         },
         "layout": {
          "annotationdefaults": {
           "arrowcolor": "#2a3f5f",
           "arrowhead": 0,
           "arrowwidth": 1
          },
          "autotypenumbers": "strict",
          "coloraxis": {
           "colorbar": {
            "outlinewidth": 0,
            "ticks": ""
           }
          },
          "colorscale": {
           "diverging": [
            [
             0,
             "#8e0152"
            ],
            [
             0.1,
             "#c51b7d"
            ],
            [
             0.2,
             "#de77ae"
            ],
            [
             0.3,
             "#f1b6da"
            ],
            [
             0.4,
             "#fde0ef"
            ],
            [
             0.5,
             "#f7f7f7"
            ],
            [
             0.6,
             "#e6f5d0"
            ],
            [
             0.7,
             "#b8e186"
            ],
            [
             0.8,
             "#7fbc41"
            ],
            [
             0.9,
             "#4d9221"
            ],
            [
             1,
             "#276419"
            ]
           ],
           "sequential": [
            [
             0,
             "#0d0887"
            ],
            [
             0.1111111111111111,
             "#46039f"
            ],
            [
             0.2222222222222222,
             "#7201a8"
            ],
            [
             0.3333333333333333,
             "#9c179e"
            ],
            [
             0.4444444444444444,
             "#bd3786"
            ],
            [
             0.5555555555555556,
             "#d8576b"
            ],
            [
             0.6666666666666666,
             "#ed7953"
            ],
            [
             0.7777777777777778,
             "#fb9f3a"
            ],
            [
             0.8888888888888888,
             "#fdca26"
            ],
            [
             1,
             "#f0f921"
            ]
           ],
           "sequentialminus": [
            [
             0,
             "#0d0887"
            ],
            [
             0.1111111111111111,
             "#46039f"
            ],
            [
             0.2222222222222222,
             "#7201a8"
            ],
            [
             0.3333333333333333,
             "#9c179e"
            ],
            [
             0.4444444444444444,
             "#bd3786"
            ],
            [
             0.5555555555555556,
             "#d8576b"
            ],
            [
             0.6666666666666666,
             "#ed7953"
            ],
            [
             0.7777777777777778,
             "#fb9f3a"
            ],
            [
             0.8888888888888888,
             "#fdca26"
            ],
            [
             1,
             "#f0f921"
            ]
           ]
          },
          "colorway": [
           "#636efa",
           "#EF553B",
           "#00cc96",
           "#ab63fa",
           "#FFA15A",
           "#19d3f3",
           "#FF6692",
           "#B6E880",
           "#FF97FF",
           "#FECB52"
          ],
          "font": {
           "color": "#2a3f5f"
          },
          "geo": {
           "bgcolor": "white",
           "lakecolor": "white",
           "landcolor": "#E5ECF6",
           "showlakes": true,
           "showland": true,
           "subunitcolor": "white"
          },
          "hoverlabel": {
           "align": "left"
          },
          "hovermode": "closest",
          "mapbox": {
           "style": "light"
          },
          "paper_bgcolor": "white",
          "plot_bgcolor": "#E5ECF6",
          "polar": {
           "angularaxis": {
            "gridcolor": "white",
            "linecolor": "white",
            "ticks": ""
           },
           "bgcolor": "#E5ECF6",
           "radialaxis": {
            "gridcolor": "white",
            "linecolor": "white",
            "ticks": ""
           }
          },
          "scene": {
           "xaxis": {
            "backgroundcolor": "#E5ECF6",
            "gridcolor": "white",
            "gridwidth": 2,
            "linecolor": "white",
            "showbackground": true,
            "ticks": "",
            "zerolinecolor": "white"
           },
           "yaxis": {
            "backgroundcolor": "#E5ECF6",
            "gridcolor": "white",
            "gridwidth": 2,
            "linecolor": "white",
            "showbackground": true,
            "ticks": "",
            "zerolinecolor": "white"
           },
           "zaxis": {
            "backgroundcolor": "#E5ECF6",
            "gridcolor": "white",
            "gridwidth": 2,
            "linecolor": "white",
            "showbackground": true,
            "ticks": "",
            "zerolinecolor": "white"
           }
          },
          "shapedefaults": {
           "line": {
            "color": "#2a3f5f"
           }
          },
          "ternary": {
           "aaxis": {
            "gridcolor": "white",
            "linecolor": "white",
            "ticks": ""
           },
           "baxis": {
            "gridcolor": "white",
            "linecolor": "white",
            "ticks": ""
           },
           "bgcolor": "#E5ECF6",
           "caxis": {
            "gridcolor": "white",
            "linecolor": "white",
            "ticks": ""
           }
          },
          "title": {
           "x": 0.05
          },
          "xaxis": {
           "automargin": true,
           "gridcolor": "white",
           "linecolor": "white",
           "ticks": "",
           "title": {
            "standoff": 15
           },
           "zerolinecolor": "white",
           "zerolinewidth": 2
          },
          "yaxis": {
           "automargin": true,
           "gridcolor": "white",
           "linecolor": "white",
           "ticks": "",
           "title": {
            "standoff": 15
           },
           "zerolinecolor": "white",
           "zerolinewidth": 2
          }
         }
        },
        "title": {
         "font": {
          "size": 20,
          "weight": "bold"
         },
         "text": "Number of Tickets in Ontario in 2022",
         "x": 0.5,
         "xanchor": "center",
         "y": 0.9,
         "yanchor": "top"
        },
        "xaxis": {
         "title": {
          "text": "Month"
         }
        },
        "yaxis": {
         "title": {
          "text": "Number of Tickets"
         }
        }
       }
      }
     },
     "metadata": {},
     "output_type": "display_data"
    }
   ],
   "source": [
    "import pandas as pd\n",
    "import plotly.graph_objects as go\n",
    "\n",
    "# Importing CSV file\n",
    "df = pd.read_csv(\"combined_output.csv\", on_bad_lines='skip')\n",
    "print(df.head())  # Display the first few rows of the dataframe to verify import\n",
    "\n",
    "# Filtering data for Ontario province\n",
    "ontario_df = df[df['province'] == 'ON']\n",
    "\n",
    "# Converting date_of_infraction to datetime format and extracting month\n",
    "ontario_df['date_of_infraction'] = pd.to_datetime(ontario_df['date_of_infraction'], format='%Y%m%d')\n",
    "ontario_df['month'] = ontario_df['date_of_infraction'].dt.month\n",
    "\n",
    "# Aggregating data to count the number of tickets by month\n",
    "monthly_counts = ontario_df['month'].value_counts().sort_index()\n",
    "\n",
    "# Mapping month numbers to month names\n",
    "month_names = ['Jan', 'Feb', 'Mar', 'Apr', 'May', 'Jun', 'Jul', 'Aug', 'Sep', 'Oct', 'Nov', 'Dec']\n",
    "x1 = [month_names[month - 1] for month in monthly_counts.index]\n",
    "y1 = monthly_counts.values\n",
    "\n",
    "# Creating the Bar plot using Plotly with the same color for all bars (June color)\n",
    "graph = go.Figure()\n",
    "graph.add_trace(go.Bar(x=x1, y=y1, marker_color='#19D3F3'))\n",
    "\n",
    "graph.update_layout(\n",
    "    title={'text': 'Number of Tickets in Ontario in 2022', 'y': 0.9, 'x': 0.5, 'xanchor': 'center', 'yanchor': 'top', 'font': {'size': 20, 'weight': 'bold'}},\n",
    "    xaxis_title='Month',\n",
    "    yaxis_title='Number of Tickets',\n",
    "    xaxis=dict(title='Month'),\n",
    "    yaxis=dict(title='Number of Tickets')\n",
    ")\n",
    "\n",
    "graph.show()"
   ]
  },
  {
   "cell_type": "markdown",
   "metadata": {},
   "source": [
    "1. What software did you use to create your data visualization?\n",
    "Python.\n",
    "\n",
    "2. Who is your intended audience?\n",
    "The audience includes policymakers, transportation authorities, community planners, and public safety officials who need insights into traffic ticketing trends in Ontario.\n",
    "\n",
    "3. What information or message are you trying to convey with your visualization?\n",
    "The number of tickets issued monthly in Ontario for 2022, highlighting trends and fluctuations over the year.\n",
    "\n",
    "4. What design principles did you consider and how were they applied?\n",
    "\n",
    "-   Substantive: The data was displayed accurately to reflect ticket counts each month.\n",
    "-   Perceptual: Bar charts were used for their simplicity in comparing monthly values. Consistent colors were applied to improve readability.\n",
    "-   Aesthetic: A clear, uncluttered design with descriptive labels was used to enhance understanding.\n",
    "\n",
    "5. How did you ensure that your visualizations are reproducible?\n",
    "The Python visualization is reproducible because the code can be rerun or adapted to new data. This ensures consistent and efficient reproducibility.\n",
    "\n",
    "6. How did you ensure accessibility?\n",
    "I made the Python chart accessible by including descriptive titles, readable fonts, and sufficient color contrast. The addition of alt text can make it usable for individuals relying on screen readers.\n",
    "\n",
    "7. Who are the individuals and communities impacted?\n",
    "The communities impacted include drivers, law enforcement, policymakers, and the general public, as this visualization informs stakeholders about traffic trends and can be used to improve public safety.\n",
    "\n",
    "8. How did you choose what features to include or exclude?\n",
    "I included monthly ticket data to provide a clear view of trends. Specific details like ticket types or geographic breakdowns were excluded to maintain simplicity and focus.\n",
    "\n",
    "9. What ‘underwater labour’ contributed to your final product?\n",
    "\n",
    "- Data Cleaning: Ensuring data was formatted correctly and error-free.\n",
    "- Writing Code: Creating a Jupyter notebook while using Python libraries.\n",
    "- Data Handling: Processing the dataset efficiently to avoid performance issues.\n"
   ]
  },
  {
   "cell_type": "markdown",
   "metadata": {},
   "source": [
    "### Visualization using Excel\n",
    "\n",
    "The graph below is a visualization created using the same dataset in Excel.  \n",
    "\n",
    "One of the main advantages of using Python is its ability to handle larger datasets. For this example, I was able to create a graph using data for the entire year.  \n",
    "\n",
    "In contrast, for the Excel graph, due to the large size of the \"combined_output.csv\" file, I was only able to plot the tickets issued in Ontario between January and July.  "
   ]
  },
  {
   "attachments": {
    "image.png": {
     "image/png": "[encoded data removed]"
    }
   },
   "cell_type": "markdown",
   "metadata": {},
   "source": [
    "![image.png](attachment:image.png)"
   ]
  },
  {
   "cell_type": "markdown",
   "metadata": {},
   "source": [
    "1. What software did you use to create your data visualization?\n",
    "I used Excel for the ticket data visualization.\n",
    "\n",
    "2. Who is your intended audience?\n",
    "The audience includes transportation authorities and policymakers interested in understanding ticket trends, particularly for the January to July timeframe.\n",
    "\n",
    "3. What information or message are you trying to convey?\n",
    "The Excel chart shows the number of tickets issued in Ontario from January to July 2022, providing a partial view of the year’s trend.\n",
    "\n",
    "4. What design principles did you consider and how were they applied?\n",
    "\n",
    "-   Substantive: Focused on presenting data accurately for the given period.\n",
    "-   Perceptual: Used a bar chart for easy comparison. Color was kept consistent for clarity.\n",
    "-   Simple design: with clear labels and titles for easy interpretation.\n",
    "\n",
    "5. How did you ensure that your visualizations are reproducible?\n",
    "Excel visualizations are not easily reproducible, as creating or updating charts manually requires more effort. Changes to the dataset require the chart to be remade, impacting consistency.\n",
    "\n",
    "6. How did you ensure accessibility?\n",
    "To make the Excel chart accessible, I used readable fonts, proper contrast, and descriptive labels. The colors were selected to be easily distinguishable.\n",
    "\n",
    "7. Who are the individuals and communities impacted?\n",
    "The impacted communities include drivers, enforcement authorities, and policymakers. This data may influence public safety strategies and traffic regulations.\n",
    "\n",
    "8. How did you choose what features to include or exclude?\n",
    "Only data from January to July was included to avoid Excel's limitations with larger datasets. Additional features like ticket types were excluded to maintain a simple, focused visualization.\n",
    "\n",
    "9. What ‘underwater labour’ contributed to your final product?\n",
    "\n",
    "-   Data Reduction: Reduced the dataset for Excel’s handling capabilities.\n",
    "-   Manual Chart Creation: Formatted the chart by selecting ranges, colors, and adding labels.\n"
   ]
  },
  {
   "cell_type": "markdown",
   "metadata": {},
   "source": [
    "- This assignment is intentionally open-ended - you are free to create static or dynamic data visualizations, maps, or whatever form of data visualization you think best communicates your information to your audience of choice! \n",
    "- Total word count should not exceed **(as a maximum) 1000 words** \n",
    " \n",
    "### Why am I doing this assignment?:  \n",
    "- This ongoing assignment ensures active participation in the course, and assesses the learning outcomes: \n",
    "* Create and customize data visualizations from start to finish in Python\n",
    "* Apply general design principles to create accessible and equitable data visualizations\n",
    "* Use data visualization to tell a story  \n",
    "- This would be a great project to include in your GitHub Portfolio – put in the effort to make it something worthy of showing prospective employers!\n",
    "\n",
    "### Rubric:\n",
    "\n",
    "| Component         | Scoring  | Requirement                                                                 |\n",
    "|-------------------|----------|-----------------------------------------------------------------------------|\n",
    "| Data Visualizations | Complete/Incomplete | - Data visualizations are distinct from each other<br>- Data visualizations are clearly identified<br>- Different sources/rationales (text with two images of data, if visualizations are labeled)<br>- High-quality visuals (high resolution and clear data)<br>- Data visualizations follow best practices of accessibility |\n",
    "| Written Explanations | Complete/Incomplete | - All questions from assignment description are answered for each visualization<br>- Explanations are supported by course content or scholarly sources, where needed |\n",
    "| Code              | Complete/Incomplete | - All code is included as an appendix with your final submissions<br>- Code is clearly commented and reproducible |\n",
    "\n",
    "## Submission Information\n",
    "\n",
    "🚨 **Please review our [Assignment Submission Guide](https://github.com/UofT-DSI/onboarding/blob/main/onboarding_documents/submissions.md)** 🚨 for detailed instructions on how to format, branch, and submit your work. Following these guidelines is crucial for your submissions to be evaluated correctly.\n",
    "\n",
    "### Submission Parameters:\n",
    "* Submission Due Date: `HH:MM AM/PM - DD/MM/YYYY`\n",
    "* The branch name for your repo should be: `assignment-4`\n",
    "* What to submit for this assignment:\n",
    "    * A folder/directory containing:\n",
    "        * This file (assignment_4.md)\n",
    "        * Two data visualizations \n",
    "        * Two markdown files for each both visualizations with their written descriptions.\n",
    "        * Link to your dataset of choice.\n",
    "        * Complete and commented code as an appendix (for your visualization made with Python, and for the other, if relevant) \n",
    "* What the pull request link should look like for this assignment: `https://github.com/<your_github_username>/visualization/pull/<pr_id>`\n",
    "    * Open a private window in your browser. Copy and paste the link to your pull request into the address bar. Make sure you can see your pull request properly. This helps the technical facilitator and learning support staff review your submission easily.\n",
    "\n",
    "Checklist:\n",
    "- [ ] Create a branch called `assignment-4`.\n",
    "- [ ] Ensure that the repository is public.\n",
    "- [ ] Review [the PR description guidelines](https://github.com/UofT-DSI/onboarding/blob/main/onboarding_documents/submissions.md#guidelines-for-pull-request-descriptions) and adhere to them.\n",
    "- [ ] Verify that the link is accessible in a private browser window.\n",
    "\n",
    "If you encounter any difficulties or have questions, please don't hesitate to reach out to our team via our Slack at `#cohort-3-help`. Our Technical Facilitators and Learning Support staff are here to help you navigate any challenges.\n"
   ]
  },
  {
   "cell_type": "markdown",
   "metadata": {},
   "source": []
  }
 ],
 "metadata": {
  "kernelspec": {
   "display_name": "dsi_participant",
   "language": "python",
   "name": "python3"
  },
  "language_info": {
   "codemirror_mode": {
    "name": "ipython",
    "version": 3
   },
   "file_extension": ".py",
   "mimetype": "text/x-python",
   "name": "python",
   "nbconvert_exporter": "python",
   "pygments_lexer": "ipython3",
   "version": "3.9.19"
  }
 },
 "nbformat": 4,
 "nbformat_minor": 2
}
